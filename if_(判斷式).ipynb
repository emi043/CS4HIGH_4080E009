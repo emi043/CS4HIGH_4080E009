{
  "nbformat": 4,
  "nbformat_minor": 0,
  "metadata": {
    "colab": {
      "name": "if (判斷式).ipynb",
      "provenance": [],
      "include_colab_link": true
    },
    "kernelspec": {
      "name": "python3",
      "display_name": "Python 3"
    }
  },
  "cells": [
    {
      "cell_type": "markdown",
      "metadata": {
        "id": "view-in-github",
        "colab_type": "text"
      },
      "source": [
        "<a href=\"https://colab.research.google.com/github/emi043/CS4HIGH_4080E009/blob/master/if_(%E5%88%A4%E6%96%B7%E5%BC%8F).ipynb\" target=\"_parent\"><img src=\"https://colab.research.google.com/assets/colab-badge.svg\" alt=\"Open In Colab\"/></a>"
      ]
    },
    {
      "cell_type": "markdown",
      "metadata": {
        "id": "B_77iVOkpXaE",
        "colab_type": "text"
      },
      "source": [
        "import time\n",
        "\n",
        "date = time.localtime()     取得目前的日期時間\n",
        "\n",
        "year = date[0]            取得目前的  年\n",
        "\n",
        "month = date[1]           取得目前的  月\n",
        "\n",
        "day = date[2]             取得目前的  日\n",
        "\n",
        "day_month = [31, 28, 31, 30, 31, 30, 31, 31, 30, 31, 30, 31]     12個月，每個月的天數\n",
        "\n",
        "if year%400==0 or (year%4==0 and year%100!=0):\t判斷是否為閏年；{年除以400等於0 或者 年除以4等於0 且 年除以100不等於0}\n",
        "   \n",
        "    day_month[1] = 29  當年2月天數改為29天\n",
        "\n",
        "if month==1:     判斷是否為1月\n",
        "\n",
        "    print(day)    如果是，則印出當天日期\n",
        "    \n",
        "else:     否則\n",
        "\n",
        "    print(sum(day_month[:month-1])+day)    印出，從1月到目前月份的前一個月的天數總和加上這個月的天數"
      ]
    },
    {
      "cell_type": "code",
      "metadata": {
        "id": "2_lKW81RnVqZ",
        "colab_type": "code",
        "outputId": "53064d46-83c4-4cc1-8cfa-94858cb75a1f",
        "colab": {
          "base_uri": "https://localhost:8080/",
          "height": 34
        }
      },
      "source": [
        "import time\n",
        "\n",
        "date = time.localtime()\t\t\n",
        "year = date[0]\n",
        "month = date[1]\n",
        "day = date[2]\n",
        "\n",
        "day_month = [31, 28, 31, 30, 31, 30, 31, 31, 30, 31, 30, 31]\n",
        "\n",
        "if year%400==0 or (year%4==0 and year%100!=0):\t#判斷是否為閏年\n",
        "    day_month[1] = 29\n",
        "\n",
        "if month==1:\n",
        "    print(day)\n",
        "else:\n",
        "    print(sum(day_month[:month-1])+day)\n"
      ],
      "execution_count": 1,
      "outputs": [
        {
          "output_type": "stream",
          "text": [
            "265\n"
          ],
          "name": "stdout"
        }
      ]
    },
    {
      "cell_type": "markdown",
      "metadata": {
        "id": "ICpUZT2dmM1J",
        "colab_type": "text"
      },
      "source": [
        "money = int(input(\"請輸入購物金額：\"))   購買金額\n",
        "\n",
        "if(money >= 10000):   判斷購買金額是否超過 10,000；是則執行下列判斷\n",
        "\n",
        "    if(money >= 100000): 判斷購買金額是否超過 100,000；是則印出購買金額乘於0.8；否則\n",
        "        print(money * 0.8, end=\" 元\\n\")  #八折 \n",
        "        \n",
        "    elif(money >= 50000):判斷購買金額是否超過 50,000；是則印出購買金額乘於0.85；否則\n",
        "        print(money * 0.85, end=\" 元\\n\")  #八五折 \n",
        "        \n",
        "    elif(money >= 30000):判斷購買金額是否超過 30,000；是則印出購買金額乘於0.9；否則\n",
        "        print(money * 0.9, end=\" 元\\n\")  #九折\n",
        "        \n",
        "    else:；印出購買金額乘於0.95\n",
        "        print(money * 0.95, end=\" 元\\n\")  #九五折\n",
        "else:   否則\n",
        "\n",
        "    print(money, end=\" 元\\n\")  #未打折  印出購買金額\n"
      ]
    },
    {
      "cell_type": "code",
      "metadata": {
        "id": "VXYSSLxzn1uF",
        "colab_type": "code",
        "outputId": "64244627-7ba0-4533-f80d-03daf0458bcd",
        "colab": {
          "base_uri": "https://localhost:8080/",
          "height": 51
        }
      },
      "source": [
        "money = int(input(\"請輸入購物金額：\"))\n",
        "\n",
        "if(money >= 10000):\n",
        "\n",
        "    if(money >= 100000):\n",
        "        print(money * 0.8, end=\" 元\\n\")  #八折\n",
        "    elif(money >= 50000):\n",
        "        print(money * 0.85, end=\" 元\\n\")  #八五折\n",
        "    elif(money >= 30000):\n",
        "        print(money * 0.9, end=\" 元\\n\")  #九折\n",
        "    else:\n",
        "        print(money * 0.95, end=\" 元\\n\")  #九五折\n",
        "\n",
        "else:\n",
        "    print(money, end=\" 元\\n\")  #未打折\n"
      ],
      "execution_count": 0,
      "outputs": [
        {
          "output_type": "stream",
          "text": [
            "請輸入購物金額：5000000\n",
            "4000000.0 元\n"
          ],
          "name": "stdout"
        }
      ]
    }
  ]
}