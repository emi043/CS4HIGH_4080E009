{
  "nbformat": 4,
  "nbformat_minor": 0,
  "metadata": {
    "colab": {
      "name": "Christmas tree.ipynb",
      "version": "0.3.2",
      "provenance": [],
      "collapsed_sections": [],
      "include_colab_link": true
    },
    "kernelspec": {
      "name": "python3",
      "display_name": "Python 3"
    }
  },
  "cells": [
    {
      "cell_type": "markdown",
      "metadata": {
        "id": "view-in-github",
        "colab_type": "text"
      },
      "source": [
        "<a href=\"https://colab.research.google.com/github/emi043/CS4HIGH_4080E009/blob/master/Christmas_tree.ipynb\" target=\"_parent\"><img src=\"https://colab.research.google.com/assets/colab-badge.svg\" alt=\"Open In Colab\"/></a>"
      ]
    },
    {
      "cell_type": "code",
      "metadata": {
        "id": "YyrE7MyF4GuP",
        "colab_type": "code",
        "colab": {
          "base_uri": "https://localhost:8080/",
          "height": 119
        },
        "outputId": "a8260316-49d9-4a6d-d16f-5238916d93ad"
      },
      "source": [
        "print(\"    ||    \")\n",
        "print(\"   ||||   \")\n",
        "print(\"  ||||||  \")\n",
        "print(\" |||||||| \")\n",
        "print(\"||||||||||\")\n",
        "print(\"    ||    \")"
      ],
      "execution_count": 4,
      "outputs": [
        {
          "output_type": "stream",
          "text": [
            "    ||\n",
            "   ||||\n",
            "  ||||||\n",
            " ||||||||\n",
            "||||||||||\n",
            "    ||\n"
          ],
          "name": "stdout"
        }
      ]
    }
  ]
}